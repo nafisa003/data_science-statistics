{
 "cells": [
  {
   "cell_type": "code",
   "execution_count": 1,
   "id": "c0d81594",
   "metadata": {
    "_cell_guid": "b1076dfc-b9ad-4769-8c92-a6c4dae69d19",
    "_uuid": "8f2839f25d086af736a60e9eeb907d3b93b6e0e5",
    "execution": {
     "iopub.execute_input": "2023-05-05T09:47:17.587454Z",
     "iopub.status.busy": "2023-05-05T09:47:17.587075Z",
     "iopub.status.idle": "2023-05-05T09:47:17.605306Z",
     "shell.execute_reply": "2023-05-05T09:47:17.604554Z"
    },
    "papermill": {
     "duration": 0.028569,
     "end_time": "2023-05-05T09:47:17.607724",
     "exception": false,
     "start_time": "2023-05-05T09:47:17.579155",
     "status": "completed"
    },
    "tags": []
   },
   "outputs": [
    {
     "name": "stdout",
     "output_type": "stream",
     "text": [
      "/kaggle/input/weight-height/weight-height.csv\n"
     ]
    }
   ],
   "source": [
    "# This Python 3 environment comes with many helpful analytics libraries installed\n",
    "# It is defined by the kaggle/python Docker image: https://github.com/kaggle/docker-python\n",
    "# For example, here's several helpful packages to load\n",
    "\n",
    "import numpy as np # linear algebra\n",
    "import pandas as pd # data processing, CSV file I/O (e.g. pd.read_csv)\n",
    "\n",
    "# Input data files are available in the read-only \"../input/\" directory\n",
    "# For example, running this (by clicking run or pressing Shift+Enter) will list all files under the input directory\n",
    "\n",
    "import os\n",
    "for dirname, _, filenames in os.walk('/kaggle/input'):\n",
    "    for filename in filenames:\n",
    "        print(os.path.join(dirname, filename))\n",
    "\n",
    "# You can write up to 20GB to the current directory (/kaggle/working/) that gets preserved as output when you create a version using \"Save & Run All\" \n",
    "# You can also write temporary files to /kaggle/temp/, but they won't be saved outside of the current session"
   ]
  },
  {
   "cell_type": "code",
   "execution_count": 2,
   "id": "33ae40ea",
   "metadata": {
    "execution": {
     "iopub.execute_input": "2023-05-05T09:47:17.623004Z",
     "iopub.status.busy": "2023-05-05T09:47:17.622611Z",
     "iopub.status.idle": "2023-05-05T09:47:18.932922Z",
     "shell.execute_reply": "2023-05-05T09:47:18.931567Z"
    },
    "papermill": {
     "duration": 1.320795,
     "end_time": "2023-05-05T09:47:18.935760",
     "exception": false,
     "start_time": "2023-05-05T09:47:17.614965",
     "status": "completed"
    },
    "tags": []
   },
   "outputs": [
    {
     "name": "stderr",
     "output_type": "stream",
     "text": [
      "/opt/conda/lib/python3.10/site-packages/scipy/__init__.py:146: UserWarning: A NumPy version >=1.16.5 and <1.23.0 is required for this version of SciPy (detected version 1.23.5\n",
      "  warnings.warn(f\"A NumPy version >={np_minversion} and <{np_maxversion}\"\n"
     ]
    }
   ],
   "source": [
    "import numpy as np\n",
    "import pandas as pd\n",
    "import matplotlib\n",
    "import matplotlib.pyplot as plt\n",
    "import seaborn as sns\n",
    "%matplotlib inline\n",
    "matplotlib.rcParams['figure.figsize']=(10,6)"
   ]
  },
  {
   "cell_type": "code",
   "execution_count": 3,
   "id": "57cb0d85",
   "metadata": {
    "execution": {
     "iopub.execute_input": "2023-05-05T09:47:18.950208Z",
     "iopub.status.busy": "2023-05-05T09:47:18.949375Z",
     "iopub.status.idle": "2023-05-05T09:47:19.007418Z",
     "shell.execute_reply": "2023-05-05T09:47:19.006249Z"
    },
    "papermill": {
     "duration": 0.068035,
     "end_time": "2023-05-05T09:47:19.010037",
     "exception": false,
     "start_time": "2023-05-05T09:47:18.942002",
     "status": "completed"
    },
    "tags": []
   },
   "outputs": [
    {
     "data": {
      "text/html": [
       "<div>\n",
       "<style scoped>\n",
       "    .dataframe tbody tr th:only-of-type {\n",
       "        vertical-align: middle;\n",
       "    }\n",
       "\n",
       "    .dataframe tbody tr th {\n",
       "        vertical-align: top;\n",
       "    }\n",
       "\n",
       "    .dataframe thead th {\n",
       "        text-align: right;\n",
       "    }\n",
       "</style>\n",
       "<table border=\"1\" class=\"dataframe\">\n",
       "  <thead>\n",
       "    <tr style=\"text-align: right;\">\n",
       "      <th></th>\n",
       "      <th>Gender</th>\n",
       "      <th>Height</th>\n",
       "      <th>Weight</th>\n",
       "    </tr>\n",
       "  </thead>\n",
       "  <tbody>\n",
       "    <tr>\n",
       "      <th>0</th>\n",
       "      <td>Male</td>\n",
       "      <td>73.847017</td>\n",
       "      <td>241.893563</td>\n",
       "    </tr>\n",
       "    <tr>\n",
       "      <th>1</th>\n",
       "      <td>Male</td>\n",
       "      <td>68.781904</td>\n",
       "      <td>162.310473</td>\n",
       "    </tr>\n",
       "    <tr>\n",
       "      <th>2</th>\n",
       "      <td>Male</td>\n",
       "      <td>74.110105</td>\n",
       "      <td>212.740856</td>\n",
       "    </tr>\n",
       "    <tr>\n",
       "      <th>3</th>\n",
       "      <td>Male</td>\n",
       "      <td>71.730978</td>\n",
       "      <td>220.042470</td>\n",
       "    </tr>\n",
       "    <tr>\n",
       "      <th>4</th>\n",
       "      <td>Male</td>\n",
       "      <td>69.881796</td>\n",
       "      <td>206.349801</td>\n",
       "    </tr>\n",
       "  </tbody>\n",
       "</table>\n",
       "</div>"
      ],
      "text/plain": [
       "  Gender     Height      Weight\n",
       "0   Male  73.847017  241.893563\n",
       "1   Male  68.781904  162.310473\n",
       "2   Male  74.110105  212.740856\n",
       "3   Male  71.730978  220.042470\n",
       "4   Male  69.881796  206.349801"
      ]
     },
     "execution_count": 3,
     "metadata": {},
     "output_type": "execute_result"
    }
   ],
   "source": [
    "df=pd.read_csv('/kaggle/input/weight-height/weight-height.csv')\n",
    "df.head()"
   ]
  },
  {
   "cell_type": "code",
   "execution_count": 4,
   "id": "ca86f491",
   "metadata": {
    "execution": {
     "iopub.execute_input": "2023-05-05T09:47:19.024647Z",
     "iopub.status.busy": "2023-05-05T09:47:19.024232Z",
     "iopub.status.idle": "2023-05-05T09:47:19.292453Z",
     "shell.execute_reply": "2023-05-05T09:47:19.291639Z"
    },
    "papermill": {
     "duration": 0.278099,
     "end_time": "2023-05-05T09:47:19.294705",
     "exception": false,
     "start_time": "2023-05-05T09:47:19.016606",
     "status": "completed"
    },
    "tags": []
   },
   "outputs": [
    {
     "data": {
      "image/png": "[encoded data removed]",
      "text/plain": [
       "<Figure size 1000x600 with 1 Axes>"
      ]
     },
     "metadata": {},
     "output_type": "display_data"
    }
   ],
   "source": [
    "plt.hist(df.Height,bins=20,rwidth=0.5)\n",
    "plt.xlabel('height')\n",
    "plt.ylabel('count')\n",
    "plt.show()"
   ]
  },
  {
   "cell_type": "code",
   "execution_count": 5,
   "id": "75da38ec",
   "metadata": {
    "execution": {
     "iopub.execute_input": "2023-05-05T09:47:19.310747Z",
     "iopub.status.busy": "2023-05-05T09:47:19.309395Z",
     "iopub.status.idle": "2023-05-05T09:47:19.609447Z",
     "shell.execute_reply": "2023-05-05T09:47:19.608304Z"
    },
    "papermill": {
     "duration": 0.310838,
     "end_time": "2023-05-05T09:47:19.612219",
     "exception": false,
     "start_time": "2023-05-05T09:47:19.301381",
     "status": "completed"
    },
    "tags": []
   },
   "outputs": [
    {
     "data": {
      "text/plain": [
       "[<matplotlib.lines.Line2D at 0x737cf2ce5ab0>]"
      ]
     },
     "execution_count": 5,
     "metadata": {},
     "output_type": "execute_result"
    },
    {
     "data": {
      "image/png": "[encoded data removed]",
      "text/plain": [
       "<Figure size 1000x600 with 1 Axes>"
      ]
     },
     "metadata": {},
     "output_type": "display_data"
    }
   ],
   "source": [
    "from scipy.stats import norm\n",
    "\n",
    "plt.hist(df.Height,bins=20,rwidth=0.5,density=True)\n",
    "plt.xlabel('height')\n",
    "plt.ylabel('count')\n",
    "\n",
    "\n",
    "rng=np.arange(df.Height.min(),df.Height.max(),0.1)\n",
    "plt.plot(rng,norm.pdf(rng,df.Height.mean(),df.Height.std()))\n"
   ]
  },
  {
   "cell_type": "code",
   "execution_count": 6,
   "id": "c0ab449c",
   "metadata": {
    "execution": {
     "iopub.execute_input": "2023-05-05T09:47:19.628850Z",
     "iopub.status.busy": "2023-05-05T09:47:19.628386Z",
     "iopub.status.idle": "2023-05-05T09:47:19.634721Z",
     "shell.execute_reply": "2023-05-05T09:47:19.633404Z"
    },
    "papermill": {
     "duration": 0.017746,
     "end_time": "2023-05-05T09:47:19.637184",
     "exception": false,
     "start_time": "2023-05-05T09:47:19.619438",
     "status": "completed"
    },
    "tags": []
   },
   "outputs": [],
   "source": [
    "mean=df.Height.mean()\n",
    "std=df.Height.std()"
   ]
  },
  {
   "cell_type": "markdown",
   "id": "df392ad3",
   "metadata": {
    "papermill": {
     "duration": 0.006892,
     "end_time": "2023-05-05T09:47:19.651264",
     "exception": false,
     "start_time": "2023-05-05T09:47:19.644372",
     "status": "completed"
    },
    "tags": []
   },
   "source": [
    "# using 3 std dev"
   ]
  },
  {
   "cell_type": "code",
   "execution_count": 7,
   "id": "64635e02",
   "metadata": {
    "execution": {
     "iopub.execute_input": "2023-05-05T09:47:19.667839Z",
     "iopub.status.busy": "2023-05-05T09:47:19.667408Z",
     "iopub.status.idle": "2023-05-05T09:47:19.672566Z",
     "shell.execute_reply": "2023-05-05T09:47:19.671527Z"
    },
    "papermill": {
     "duration": 0.015936,
     "end_time": "2023-05-05T09:47:19.674870",
     "exception": false,
     "start_time": "2023-05-05T09:47:19.658934",
     "status": "completed"
    },
    "tags": []
   },
   "outputs": [],
   "source": [
    "upper_limit=mean+3*std\n",
    "lower_limit=mean-3*std"
   ]
  },
  {
   "cell_type": "code",
   "execution_count": 8,
   "id": "e12db362",
   "metadata": {
    "execution": {
     "iopub.execute_input": "2023-05-05T09:47:19.691233Z",
     "iopub.status.busy": "2023-05-05T09:47:19.690814Z",
     "iopub.status.idle": "2023-05-05T09:47:19.708340Z",
     "shell.execute_reply": "2023-05-05T09:47:19.706963Z"
    },
    "papermill": {
     "duration": 0.028625,
     "end_time": "2023-05-05T09:47:19.710803",
     "exception": false,
     "start_time": "2023-05-05T09:47:19.682178",
     "status": "completed"
    },
    "tags": []
   },
   "outputs": [
    {
     "data": {
      "text/html": [
       "<div>\n",
       "<style scoped>\n",
       "    .dataframe tbody tr th:only-of-type {\n",
       "        vertical-align: middle;\n",
       "    }\n",
       "\n",
       "    .dataframe tbody tr th {\n",
       "        vertical-align: top;\n",
       "    }\n",
       "\n",
       "    .dataframe thead th {\n",
       "        text-align: right;\n",
       "    }\n",
       "</style>\n",
       "<table border=\"1\" class=\"dataframe\">\n",
       "  <thead>\n",
       "    <tr style=\"text-align: right;\">\n",
       "      <th></th>\n",
       "      <th>Gender</th>\n",
       "      <th>Height</th>\n",
       "      <th>Weight</th>\n",
       "    </tr>\n",
       "  </thead>\n",
       "  <tbody>\n",
       "    <tr>\n",
       "      <th>994</th>\n",
       "      <td>Male</td>\n",
       "      <td>78.095867</td>\n",
       "      <td>255.690835</td>\n",
       "    </tr>\n",
       "    <tr>\n",
       "      <th>1317</th>\n",
       "      <td>Male</td>\n",
       "      <td>78.462053</td>\n",
       "      <td>227.342565</td>\n",
       "    </tr>\n",
       "    <tr>\n",
       "      <th>2014</th>\n",
       "      <td>Male</td>\n",
       "      <td>78.998742</td>\n",
       "      <td>269.989699</td>\n",
       "    </tr>\n",
       "    <tr>\n",
       "      <th>3285</th>\n",
       "      <td>Male</td>\n",
       "      <td>78.528210</td>\n",
       "      <td>253.889004</td>\n",
       "    </tr>\n",
       "    <tr>\n",
       "      <th>3757</th>\n",
       "      <td>Male</td>\n",
       "      <td>78.621374</td>\n",
       "      <td>245.733783</td>\n",
       "    </tr>\n",
       "    <tr>\n",
       "      <th>6624</th>\n",
       "      <td>Female</td>\n",
       "      <td>54.616858</td>\n",
       "      <td>71.393749</td>\n",
       "    </tr>\n",
       "    <tr>\n",
       "      <th>9285</th>\n",
       "      <td>Female</td>\n",
       "      <td>54.263133</td>\n",
       "      <td>64.700127</td>\n",
       "    </tr>\n",
       "  </tbody>\n",
       "</table>\n",
       "</div>"
      ],
      "text/plain": [
       "      Gender     Height      Weight\n",
       "994     Male  78.095867  255.690835\n",
       "1317    Male  78.462053  227.342565\n",
       "2014    Male  78.998742  269.989699\n",
       "3285    Male  78.528210  253.889004\n",
       "3757    Male  78.621374  245.733783\n",
       "6624  Female  54.616858   71.393749\n",
       "9285  Female  54.263133   64.700127"
      ]
     },
     "execution_count": 8,
     "metadata": {},
     "output_type": "execute_result"
    }
   ],
   "source": [
    "df[(df.Height>upper_limit) | (df.Height<lower_limit)]"
   ]
  },
  {
   "cell_type": "code",
   "execution_count": 9,
   "id": "86c33df9",
   "metadata": {
    "execution": {
     "iopub.execute_input": "2023-05-05T09:47:19.727794Z",
     "iopub.status.busy": "2023-05-05T09:47:19.727088Z",
     "iopub.status.idle": "2023-05-05T09:47:19.734273Z",
     "shell.execute_reply": "2023-05-05T09:47:19.733202Z"
    },
    "papermill": {
     "duration": 0.018582,
     "end_time": "2023-05-05T09:47:19.736933",
     "exception": false,
     "start_time": "2023-05-05T09:47:19.718351",
     "status": "completed"
    },
    "tags": []
   },
   "outputs": [],
   "source": [
    "df2=df[(df.Height<upper_limit) & (df.Height>lower_limit)]"
   ]
  },
  {
   "cell_type": "code",
   "execution_count": 10,
   "id": "acd096ea",
   "metadata": {
    "execution": {
     "iopub.execute_input": "2023-05-05T09:47:19.753995Z",
     "iopub.status.busy": "2023-05-05T09:47:19.753605Z",
     "iopub.status.idle": "2023-05-05T09:47:19.760112Z",
     "shell.execute_reply": "2023-05-05T09:47:19.759086Z"
    },
    "papermill": {
     "duration": 0.018047,
     "end_time": "2023-05-05T09:47:19.762425",
     "exception": false,
     "start_time": "2023-05-05T09:47:19.744378",
     "status": "completed"
    },
    "tags": []
   },
   "outputs": [
    {
     "data": {
      "text/plain": [
       "(9993, 3)"
      ]
     },
     "execution_count": 10,
     "metadata": {},
     "output_type": "execute_result"
    }
   ],
   "source": [
    "df2.shape"
   ]
  },
  {
   "cell_type": "markdown",
   "id": "696cc202",
   "metadata": {
    "papermill": {
     "duration": 0.007359,
     "end_time": "2023-05-05T09:47:19.777438",
     "exception": false,
     "start_time": "2023-05-05T09:47:19.770079",
     "status": "completed"
    },
    "tags": []
   },
   "source": [
    "# Using Z Score"
   ]
  },
  {
   "cell_type": "code",
   "execution_count": 11,
   "id": "434cf2d1",
   "metadata": {
    "execution": {
     "iopub.execute_input": "2023-05-05T09:47:19.795017Z",
     "iopub.status.busy": "2023-05-05T09:47:19.794203Z",
     "iopub.status.idle": "2023-05-05T09:47:19.808920Z",
     "shell.execute_reply": "2023-05-05T09:47:19.807692Z"
    },
    "papermill": {
     "duration": 0.026086,
     "end_time": "2023-05-05T09:47:19.811224",
     "exception": false,
     "start_time": "2023-05-05T09:47:19.785138",
     "status": "completed"
    },
    "tags": []
   },
   "outputs": [
    {
     "data": {
      "text/html": [
       "<div>\n",
       "<style scoped>\n",
       "    .dataframe tbody tr th:only-of-type {\n",
       "        vertical-align: middle;\n",
       "    }\n",
       "\n",
       "    .dataframe tbody tr th {\n",
       "        vertical-align: top;\n",
       "    }\n",
       "\n",
       "    .dataframe thead th {\n",
       "        text-align: right;\n",
       "    }\n",
       "</style>\n",
       "<table border=\"1\" class=\"dataframe\">\n",
       "  <thead>\n",
       "    <tr style=\"text-align: right;\">\n",
       "      <th></th>\n",
       "      <th>Gender</th>\n",
       "      <th>Height</th>\n",
       "      <th>Weight</th>\n",
       "      <th>zscore</th>\n",
       "    </tr>\n",
       "  </thead>\n",
       "  <tbody>\n",
       "    <tr>\n",
       "      <th>0</th>\n",
       "      <td>Male</td>\n",
       "      <td>73.847017</td>\n",
       "      <td>241.893563</td>\n",
       "      <td>1.943964</td>\n",
       "    </tr>\n",
       "    <tr>\n",
       "      <th>1</th>\n",
       "      <td>Male</td>\n",
       "      <td>68.781904</td>\n",
       "      <td>162.310473</td>\n",
       "      <td>0.627505</td>\n",
       "    </tr>\n",
       "    <tr>\n",
       "      <th>2</th>\n",
       "      <td>Male</td>\n",
       "      <td>74.110105</td>\n",
       "      <td>212.740856</td>\n",
       "      <td>2.012343</td>\n",
       "    </tr>\n",
       "    <tr>\n",
       "      <th>3</th>\n",
       "      <td>Male</td>\n",
       "      <td>71.730978</td>\n",
       "      <td>220.042470</td>\n",
       "      <td>1.393991</td>\n",
       "    </tr>\n",
       "    <tr>\n",
       "      <th>4</th>\n",
       "      <td>Male</td>\n",
       "      <td>69.881796</td>\n",
       "      <td>206.349801</td>\n",
       "      <td>0.913375</td>\n",
       "    </tr>\n",
       "  </tbody>\n",
       "</table>\n",
       "</div>"
      ],
      "text/plain": [
       "  Gender     Height      Weight    zscore\n",
       "0   Male  73.847017  241.893563  1.943964\n",
       "1   Male  68.781904  162.310473  0.627505\n",
       "2   Male  74.110105  212.740856  2.012343\n",
       "3   Male  71.730978  220.042470  1.393991\n",
       "4   Male  69.881796  206.349801  0.913375"
      ]
     },
     "execution_count": 11,
     "metadata": {},
     "output_type": "execute_result"
    }
   ],
   "source": [
    "df['zscore']=(df.Height-df.Height.mean())/(df.Height.std())\n",
    "df.head()"
   ]
  },
  {
   "cell_type": "code",
   "execution_count": 12,
   "id": "ecec91bf",
   "metadata": {
    "execution": {
     "iopub.execute_input": "2023-05-05T09:47:19.828523Z",
     "iopub.status.busy": "2023-05-05T09:47:19.828077Z",
     "iopub.status.idle": "2023-05-05T09:47:19.841673Z",
     "shell.execute_reply": "2023-05-05T09:47:19.840528Z"
    },
    "papermill": {
     "duration": 0.024829,
     "end_time": "2023-05-05T09:47:19.843834",
     "exception": false,
     "start_time": "2023-05-05T09:47:19.819005",
     "status": "completed"
    },
    "tags": []
   },
   "outputs": [
    {
     "data": {
      "text/html": [
       "<div>\n",
       "<style scoped>\n",
       "    .dataframe tbody tr th:only-of-type {\n",
       "        vertical-align: middle;\n",
       "    }\n",
       "\n",
       "    .dataframe tbody tr th {\n",
       "        vertical-align: top;\n",
       "    }\n",
       "\n",
       "    .dataframe thead th {\n",
       "        text-align: right;\n",
       "    }\n",
       "</style>\n",
       "<table border=\"1\" class=\"dataframe\">\n",
       "  <thead>\n",
       "    <tr style=\"text-align: right;\">\n",
       "      <th></th>\n",
       "      <th>Gender</th>\n",
       "      <th>Height</th>\n",
       "      <th>Weight</th>\n",
       "      <th>zscore</th>\n",
       "    </tr>\n",
       "  </thead>\n",
       "  <tbody>\n",
       "    <tr>\n",
       "      <th>994</th>\n",
       "      <td>Male</td>\n",
       "      <td>78.095867</td>\n",
       "      <td>255.690835</td>\n",
       "      <td>3.048271</td>\n",
       "    </tr>\n",
       "    <tr>\n",
       "      <th>1317</th>\n",
       "      <td>Male</td>\n",
       "      <td>78.462053</td>\n",
       "      <td>227.342565</td>\n",
       "      <td>3.143445</td>\n",
       "    </tr>\n",
       "    <tr>\n",
       "      <th>2014</th>\n",
       "      <td>Male</td>\n",
       "      <td>78.998742</td>\n",
       "      <td>269.989699</td>\n",
       "      <td>3.282934</td>\n",
       "    </tr>\n",
       "    <tr>\n",
       "      <th>3285</th>\n",
       "      <td>Male</td>\n",
       "      <td>78.528210</td>\n",
       "      <td>253.889004</td>\n",
       "      <td>3.160640</td>\n",
       "    </tr>\n",
       "    <tr>\n",
       "      <th>3757</th>\n",
       "      <td>Male</td>\n",
       "      <td>78.621374</td>\n",
       "      <td>245.733783</td>\n",
       "      <td>3.184854</td>\n",
       "    </tr>\n",
       "  </tbody>\n",
       "</table>\n",
       "</div>"
      ],
      "text/plain": [
       "     Gender     Height      Weight    zscore\n",
       "994    Male  78.095867  255.690835  3.048271\n",
       "1317   Male  78.462053  227.342565  3.143445\n",
       "2014   Male  78.998742  269.989699  3.282934\n",
       "3285   Male  78.528210  253.889004  3.160640\n",
       "3757   Male  78.621374  245.733783  3.184854"
      ]
     },
     "execution_count": 12,
     "metadata": {},
     "output_type": "execute_result"
    }
   ],
   "source": [
    "df[df['zscore']>3]"
   ]
  },
  {
   "cell_type": "code",
   "execution_count": 13,
   "id": "1329d798",
   "metadata": {
    "execution": {
     "iopub.execute_input": "2023-05-05T09:47:19.861545Z",
     "iopub.status.busy": "2023-05-05T09:47:19.861115Z",
     "iopub.status.idle": "2023-05-05T09:47:19.867453Z",
     "shell.execute_reply": "2023-05-05T09:47:19.866696Z"
    },
    "papermill": {
     "duration": 0.017607,
     "end_time": "2023-05-05T09:47:19.869389",
     "exception": false,
     "start_time": "2023-05-05T09:47:19.851782",
     "status": "completed"
    },
    "tags": []
   },
   "outputs": [],
   "source": [
    "df_no_outlier=df[(df['zscore']>-3) & (df['zscore']<3)]"
   ]
  },
  {
   "cell_type": "code",
   "execution_count": 14,
   "id": "880151b3",
   "metadata": {
    "execution": {
     "iopub.execute_input": "2023-05-05T09:47:19.887478Z",
     "iopub.status.busy": "2023-05-05T09:47:19.887051Z",
     "iopub.status.idle": "2023-05-05T09:47:19.893924Z",
     "shell.execute_reply": "2023-05-05T09:47:19.892855Z"
    },
    "papermill": {
     "duration": 0.018592,
     "end_time": "2023-05-05T09:47:19.896457",
     "exception": false,
     "start_time": "2023-05-05T09:47:19.877865",
     "status": "completed"
    },
    "tags": []
   },
   "outputs": [
    {
     "data": {
      "text/plain": [
       "(9993, 4)"
      ]
     },
     "execution_count": 14,
     "metadata": {},
     "output_type": "execute_result"
    }
   ],
   "source": [
    "df_no_outlier.shape"
   ]
  },
  {
   "cell_type": "markdown",
   "id": "8b9d4c5a",
   "metadata": {
    "papermill": {
     "duration": 0.007827,
     "end_time": "2023-05-05T09:47:19.912418",
     "exception": false,
     "start_time": "2023-05-05T09:47:19.904591",
     "status": "completed"
    },
    "tags": []
   },
   "source": [
    "# Using IQR"
   ]
  },
  {
   "cell_type": "code",
   "execution_count": 15,
   "id": "24802199",
   "metadata": {
    "execution": {
     "iopub.execute_input": "2023-05-05T09:47:19.930521Z",
     "iopub.status.busy": "2023-05-05T09:47:19.929818Z",
     "iopub.status.idle": "2023-05-05T09:47:19.945728Z",
     "shell.execute_reply": "2023-05-05T09:47:19.944855Z"
    },
    "papermill": {
     "duration": 0.027624,
     "end_time": "2023-05-05T09:47:19.948001",
     "exception": false,
     "start_time": "2023-05-05T09:47:19.920377",
     "status": "completed"
    },
    "tags": []
   },
   "outputs": [
    {
     "data": {
      "text/plain": [
       "51.35147356318197"
      ]
     },
     "execution_count": 15,
     "metadata": {},
     "output_type": "execute_result"
    }
   ],
   "source": [
    "Q3,Q1=df.Weight.quantile(0.75),df.Weight.quantile(0.25)\n",
    "IQR=df.Weight.quantile(0.75)-df.Weight.quantile(0.25)\n",
    "IQR"
   ]
  },
  {
   "cell_type": "code",
   "execution_count": 16,
   "id": "5cdb1e7b",
   "metadata": {
    "execution": {
     "iopub.execute_input": "2023-05-05T09:47:19.966070Z",
     "iopub.status.busy": "2023-05-05T09:47:19.965671Z",
     "iopub.status.idle": "2023-05-05T09:47:19.971007Z",
     "shell.execute_reply": "2023-05-05T09:47:19.969982Z"
    },
    "papermill": {
     "duration": 0.017748,
     "end_time": "2023-05-05T09:47:19.973772",
     "exception": false,
     "start_time": "2023-05-05T09:47:19.956024",
     "status": "completed"
    },
    "tags": []
   },
   "outputs": [],
   "source": [
    "lower_limit=Q1-1.5*IQR\n",
    "upper_limit=Q3+1.5*IQR"
   ]
  },
  {
   "cell_type": "code",
   "execution_count": 17,
   "id": "d1efe6df",
   "metadata": {
    "execution": {
     "iopub.execute_input": "2023-05-05T09:47:19.992384Z",
     "iopub.status.busy": "2023-05-05T09:47:19.991999Z",
     "iopub.status.idle": "2023-05-05T09:47:19.998352Z",
     "shell.execute_reply": "2023-05-05T09:47:19.997084Z"
    },
    "papermill": {
     "duration": 0.018671,
     "end_time": "2023-05-05T09:47:20.000898",
     "exception": false,
     "start_time": "2023-05-05T09:47:19.982227",
     "status": "completed"
    },
    "tags": []
   },
   "outputs": [],
   "source": [
    "df_no_outlier_iqr=df[(df.Weight>lower_limit) & (df.Weight<upper_limit)]"
   ]
  },
  {
   "cell_type": "code",
   "execution_count": 18,
   "id": "ecea97fa",
   "metadata": {
    "execution": {
     "iopub.execute_input": "2023-05-05T09:47:20.020129Z",
     "iopub.status.busy": "2023-05-05T09:47:20.019500Z",
     "iopub.status.idle": "2023-05-05T09:47:20.024998Z",
     "shell.execute_reply": "2023-05-05T09:47:20.023928Z"
    },
    "papermill": {
     "duration": 0.017817,
     "end_time": "2023-05-05T09:47:20.026998",
     "exception": false,
     "start_time": "2023-05-05T09:47:20.009181",
     "status": "completed"
    },
    "tags": []
   },
   "outputs": [
    {
     "data": {
      "text/plain": [
       "(9999, 4)"
      ]
     },
     "execution_count": 18,
     "metadata": {},
     "output_type": "execute_result"
    }
   ],
   "source": [
    "df_no_outlier_iqr.shape"
   ]
  },
  {
   "cell_type": "code",
   "execution_count": 19,
   "id": "784d8df9",
   "metadata": {
    "execution": {
     "iopub.execute_input": "2023-05-05T09:47:20.045557Z",
     "iopub.status.busy": "2023-05-05T09:47:20.044880Z",
     "iopub.status.idle": "2023-05-05T09:47:20.056034Z",
     "shell.execute_reply": "2023-05-05T09:47:20.055216Z"
    },
    "papermill": {
     "duration": 0.023235,
     "end_time": "2023-05-05T09:47:20.058403",
     "exception": false,
     "start_time": "2023-05-05T09:47:20.035168",
     "status": "completed"
    },
    "tags": []
   },
   "outputs": [
    {
     "data": {
      "text/html": [
       "<div>\n",
       "<style scoped>\n",
       "    .dataframe tbody tr th:only-of-type {\n",
       "        vertical-align: middle;\n",
       "    }\n",
       "\n",
       "    .dataframe tbody tr th {\n",
       "        vertical-align: top;\n",
       "    }\n",
       "\n",
       "    .dataframe thead th {\n",
       "        text-align: right;\n",
       "    }\n",
       "</style>\n",
       "<table border=\"1\" class=\"dataframe\">\n",
       "  <thead>\n",
       "    <tr style=\"text-align: right;\">\n",
       "      <th></th>\n",
       "      <th>Gender</th>\n",
       "      <th>Height</th>\n",
       "      <th>Weight</th>\n",
       "      <th>zscore</th>\n",
       "    </tr>\n",
       "  </thead>\n",
       "  <tbody>\n",
       "    <tr>\n",
       "      <th>2014</th>\n",
       "      <td>Male</td>\n",
       "      <td>78.998742</td>\n",
       "      <td>269.989699</td>\n",
       "      <td>3.282934</td>\n",
       "    </tr>\n",
       "  </tbody>\n",
       "</table>\n",
       "</div>"
      ],
      "text/plain": [
       "     Gender     Height      Weight    zscore\n",
       "2014   Male  78.998742  269.989699  3.282934"
      ]
     },
     "execution_count": 19,
     "metadata": {},
     "output_type": "execute_result"
    }
   ],
   "source": [
    "df[(df.Weight<lower_limit) | (df.Weight>upper_limit)]"
   ]
  },
  {
   "cell_type": "code",
   "execution_count": 20,
   "id": "48cfd986",
   "metadata": {
    "execution": {
     "iopub.execute_input": "2023-05-05T09:47:20.077477Z",
     "iopub.status.busy": "2023-05-05T09:47:20.076841Z",
     "iopub.status.idle": "2023-05-05T09:47:20.369480Z",
     "shell.execute_reply": "2023-05-05T09:47:20.368316Z"
    },
    "papermill": {
     "duration": 0.305045,
     "end_time": "2023-05-05T09:47:20.372027",
     "exception": false,
     "start_time": "2023-05-05T09:47:20.066982",
     "status": "completed"
    },
    "tags": []
   },
   "outputs": [
    {
     "data": {
      "text/plain": [
       "Text(0, 0.5, 'count')"
      ]
     },
     "execution_count": 20,
     "metadata": {},
     "output_type": "execute_result"
    },
    {
     "data": {
      "image/png": "[encoded data removed]",
      "text/plain": [
       "<Figure size 1000x600 with 1 Axes>"
      ]
     },
     "metadata": {},
     "output_type": "display_data"
    }
   ],
   "source": [
    "plt.hist(df.Weight,bins=20,rwidth=0.5)\n",
    "plt.xlabel('weight')\n",
    "plt.ylabel('count')"
   ]
  },
  {
   "cell_type": "code",
   "execution_count": 21,
   "id": "ad1cdd0b",
   "metadata": {
    "execution": {
     "iopub.execute_input": "2023-05-05T09:47:20.392195Z",
     "iopub.status.busy": "2023-05-05T09:47:20.391182Z",
     "iopub.status.idle": "2023-05-05T09:47:20.688507Z",
     "shell.execute_reply": "2023-05-05T09:47:20.687359Z"
    },
    "papermill": {
     "duration": 0.310074,
     "end_time": "2023-05-05T09:47:20.690919",
     "exception": false,
     "start_time": "2023-05-05T09:47:20.380845",
     "status": "completed"
    },
    "tags": []
   },
   "outputs": [
    {
     "data": {
      "text/plain": [
       "[<matplotlib.lines.Line2D at 0x737cf2c3a4a0>]"
      ]
     },
     "execution_count": 21,
     "metadata": {},
     "output_type": "execute_result"
    },
    {
     "data": {
      "image/png": "[encoded data removed]",
      "text/plain": [
       "<Figure size 1000x600 with 1 Axes>"
      ]
     },
     "metadata": {},
     "output_type": "display_data"
    }
   ],
   "source": [
    "\n",
    "plt.hist(df.Weight,bins=20,rwidth=0.5,density=True)\n",
    "plt.xlabel('weight')\n",
    "plt.ylabel('count')\n",
    "\n",
    "rng2=np.arange(df.Weight.min(),df.Weight.max(),0.1)\n",
    "plt.plot(rng2,norm.pdf(rng2,df.Weight.mean(),df.Weight.std()))"
   ]
  },
  {
   "cell_type": "code",
   "execution_count": 22,
   "id": "4d147deb",
   "metadata": {
    "execution": {
     "iopub.execute_input": "2023-05-05T09:47:20.712254Z",
     "iopub.status.busy": "2023-05-05T09:47:20.711644Z",
     "iopub.status.idle": "2023-05-05T09:47:21.111700Z",
     "shell.execute_reply": "2023-05-05T09:47:21.110560Z"
    },
    "papermill": {
     "duration": 0.41373,
     "end_time": "2023-05-05T09:47:21.114014",
     "exception": false,
     "start_time": "2023-05-05T09:47:20.700284",
     "status": "completed"
    },
    "tags": []
   },
   "outputs": [
    {
     "data": {
      "text/plain": [
       "<AxesSubplot: xlabel='Weight', ylabel='Count'>"
      ]
     },
     "execution_count": 22,
     "metadata": {},
     "output_type": "execute_result"
    },
    {
     "data": {
      "image/png": "[encoded data removed]",
      "text/plain": [
       "<Figure size 1000x600 with 1 Axes>"
      ]
     },
     "metadata": {},
     "output_type": "display_data"
    }
   ],
   "source": [
    "sns.histplot(data=df,x=df.Weight,kde=True)"
   ]
  },
  {
   "cell_type": "code",
   "execution_count": null,
   "id": "ad301b47",
   "metadata": {
    "papermill": {
     "duration": 0.009919,
     "end_time": "2023-05-05T09:47:21.134257",
     "exception": false,
     "start_time": "2023-05-05T09:47:21.124338",
     "status": "completed"
    },
    "tags": []
   },
   "outputs": [],
   "source": []
  }
 ],
 "metadata": {
  "kernelspec": {
   "display_name": "Python 3",
   "language": "python",
   "name": "python3"
  },
  "language_info": {
   "codemirror_mode": {
    "name": "ipython",
    "version": 3
   },
   "file_extension": ".py",
   "mimetype": "text/x-python",
   "name": "python",
   "nbconvert_exporter": "python",
   "pygments_lexer": "ipython3",
   "version": "3.10.10"
  },
  "papermill": {
   "default_parameters": {},
   "duration": 15.608315,
   "end_time": "2023-05-05T09:47:22.169771",
   "environment_variables": {},
   "exception": null,
   "input_path": "__notebook__.ipynb",
   "output_path": "__notebook__.ipynb",
   "parameters": {},
   "start_time": "2023-05-05T09:47:06.561456",
   "version": "2.4.0"
  }
 },
 "nbformat": 4,
 "nbformat_minor": 5
}
