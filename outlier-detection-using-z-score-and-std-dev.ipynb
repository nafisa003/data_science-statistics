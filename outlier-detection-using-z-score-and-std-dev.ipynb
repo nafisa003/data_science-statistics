{
 "cells": [
  {
   "cell_type": "code",
   "execution_count": 1,
   "id": "9e1683ca",
   "metadata": {
    "_cell_guid": "b1076dfc-b9ad-4769-8c92-a6c4dae69d19",
    "_uuid": "8f2839f25d086af736a60e9eeb907d3b93b6e0e5",
    "execution": {
     "iopub.execute_input": "2023-05-05T09:33:10.079433Z",
     "iopub.status.busy": "2023-05-05T09:33:10.078921Z",
     "iopub.status.idle": "2023-05-05T09:33:10.099609Z",
     "shell.execute_reply": "2023-05-05T09:33:10.098762Z"
    },
    "papermill": {
     "duration": 0.029562,
     "end_time": "2023-05-05T09:33:10.101900",
     "exception": false,
     "start_time": "2023-05-05T09:33:10.072338",
     "status": "completed"
    },
    "tags": []
   },
   "outputs": [
    {
     "name": "stdout",
     "output_type": "stream",
     "text": [
      "/kaggle/input/weight-height/weight-height.csv\n"
     ]
    }
   ],
   "source": [
    "# This Python 3 environment comes with many helpful analytics libraries installed\n",
    "# It is defined by the kaggle/python Docker image: https://github.com/kaggle/docker-python\n",
    "# For example, here's several helpful packages to load\n",
    "\n",
    "import numpy as np # linear algebra\n",
    "import pandas as pd # data processing, CSV file I/O (e.g. pd.read_csv)\n",
    "\n",
    "# Input data files are available in the read-only \"../input/\" directory\n",
    "# For example, running this (by clicking run or pressing Shift+Enter) will list all files under the input directory\n",
    "\n",
    "import os\n",
    "for dirname, _, filenames in os.walk('/kaggle/input'):\n",
    "    for filename in filenames:\n",
    "        print(os.path.join(dirname, filename))\n",
    "\n",
    "# You can write up to 20GB to the current directory (/kaggle/working/) that gets preserved as output when you create a version using \"Save & Run All\" \n",
    "# You can also write temporary files to /kaggle/temp/, but they won't be saved outside of the current session"
   ]
  },
  {
   "cell_type": "code",
   "execution_count": 2,
   "id": "53bf7808",
   "metadata": {
    "execution": {
     "iopub.execute_input": "2023-05-05T09:33:10.113660Z",
     "iopub.status.busy": "2023-05-05T09:33:10.112827Z",
     "iopub.status.idle": "2023-05-05T09:33:11.346878Z",
     "shell.execute_reply": "2023-05-05T09:33:11.345871Z"
    },
    "papermill": {
     "duration": 1.241846,
     "end_time": "2023-05-05T09:33:11.349157",
     "exception": false,
     "start_time": "2023-05-05T09:33:10.107311",
     "status": "completed"
    },
    "tags": []
   },
   "outputs": [
    {
     "name": "stderr",
     "output_type": "stream",
     "text": [
      "/opt/conda/lib/python3.10/site-packages/scipy/__init__.py:146: UserWarning: A NumPy version >=1.16.5 and <1.23.0 is required for this version of SciPy (detected version 1.23.5\n",
      "  warnings.warn(f\"A NumPy version >={np_minversion} and <{np_maxversion}\"\n"
     ]
    }
   ],
   "source": [
    "import numpy as np\n",
    "import pandas as pd\n",
    "import matplotlib\n",
    "import matplotlib.pyplot as plt\n",
    "import seaborn as sns\n",
    "%matplotlib inline\n",
    "matplotlib.rcParams['figure.figsize']=(10,6)"
   ]
  },
  {
   "cell_type": "code",
   "execution_count": 3,
   "id": "fe7fcdff",
   "metadata": {
    "execution": {
     "iopub.execute_input": "2023-05-05T09:33:11.360452Z",
     "iopub.status.busy": "2023-05-05T09:33:11.359548Z",
     "iopub.status.idle": "2023-05-05T09:33:11.415231Z",
     "shell.execute_reply": "2023-05-05T09:33:11.414213Z"
    },
    "papermill": {
     "duration": 0.06329,
     "end_time": "2023-05-05T09:33:11.417485",
     "exception": false,
     "start_time": "2023-05-05T09:33:11.354195",
     "status": "completed"
    },
    "tags": []
   },
   "outputs": [
    {
     "data": {
      "text/html": [
       "<div>\n",
       "<style scoped>\n",
       "    .dataframe tbody tr th:only-of-type {\n",
       "        vertical-align: middle;\n",
       "    }\n",
       "\n",
       "    .dataframe tbody tr th {\n",
       "        vertical-align: top;\n",
       "    }\n",
       "\n",
       "    .dataframe thead th {\n",
       "        text-align: right;\n",
       "    }\n",
       "</style>\n",
       "<table border=\"1\" class=\"dataframe\">\n",
       "  <thead>\n",
       "    <tr style=\"text-align: right;\">\n",
       "      <th></th>\n",
       "      <th>Gender</th>\n",
       "      <th>Height</th>\n",
       "      <th>Weight</th>\n",
       "    </tr>\n",
       "  </thead>\n",
       "  <tbody>\n",
       "    <tr>\n",
       "      <th>0</th>\n",
       "      <td>Male</td>\n",
       "      <td>73.847017</td>\n",
       "      <td>241.893563</td>\n",
       "    </tr>\n",
       "    <tr>\n",
       "      <th>1</th>\n",
       "      <td>Male</td>\n",
       "      <td>68.781904</td>\n",
       "      <td>162.310473</td>\n",
       "    </tr>\n",
       "    <tr>\n",
       "      <th>2</th>\n",
       "      <td>Male</td>\n",
       "      <td>74.110105</td>\n",
       "      <td>212.740856</td>\n",
       "    </tr>\n",
       "    <tr>\n",
       "      <th>3</th>\n",
       "      <td>Male</td>\n",
       "      <td>71.730978</td>\n",
       "      <td>220.042470</td>\n",
       "    </tr>\n",
       "    <tr>\n",
       "      <th>4</th>\n",
       "      <td>Male</td>\n",
       "      <td>69.881796</td>\n",
       "      <td>206.349801</td>\n",
       "    </tr>\n",
       "  </tbody>\n",
       "</table>\n",
       "</div>"
      ],
      "text/plain": [
       "  Gender     Height      Weight\n",
       "0   Male  73.847017  241.893563\n",
       "1   Male  68.781904  162.310473\n",
       "2   Male  74.110105  212.740856\n",
       "3   Male  71.730978  220.042470\n",
       "4   Male  69.881796  206.349801"
      ]
     },
     "execution_count": 3,
     "metadata": {},
     "output_type": "execute_result"
    }
   ],
   "source": [
    "df=pd.read_csv('/kaggle/input/weight-height/weight-height.csv')\n",
    "df.head()"
   ]
  },
  {
   "cell_type": "code",
   "execution_count": 4,
   "id": "1b1142e8",
   "metadata": {
    "execution": {
     "iopub.execute_input": "2023-05-05T09:33:11.427812Z",
     "iopub.status.busy": "2023-05-05T09:33:11.427439Z",
     "iopub.status.idle": "2023-05-05T09:33:11.692665Z",
     "shell.execute_reply": "2023-05-05T09:33:11.691455Z"
    },
    "papermill": {
     "duration": 0.273034,
     "end_time": "2023-05-05T09:33:11.695009",
     "exception": false,
     "start_time": "2023-05-05T09:33:11.421975",
     "status": "completed"
    },
    "tags": []
   },
   "outputs": [
    {
     "data": {
      "image/png": "[encoded data removed]",
      "text/plain": [
       "<Figure size 1000x600 with 1 Axes>"
      ]
     },
     "metadata": {},
     "output_type": "display_data"
    }
   ],
   "source": [
    "plt.hist(df.Height,bins=20,rwidth=0.5)\n",
    "plt.xlabel('height')\n",
    "plt.ylabel('count')\n",
    "plt.show()"
   ]
  },
  {
   "cell_type": "code",
   "execution_count": 5,
   "id": "9e5fb0df",
   "metadata": {
    "execution": {
     "iopub.execute_input": "2023-05-05T09:33:11.706308Z",
     "iopub.status.busy": "2023-05-05T09:33:11.705942Z",
     "iopub.status.idle": "2023-05-05T09:33:11.928994Z",
     "shell.execute_reply": "2023-05-05T09:33:11.927778Z"
    },
    "papermill": {
     "duration": 0.231525,
     "end_time": "2023-05-05T09:33:11.931324",
     "exception": false,
     "start_time": "2023-05-05T09:33:11.699799",
     "status": "completed"
    },
    "tags": []
   },
   "outputs": [
    {
     "data": {
      "text/plain": [
       "[<matplotlib.lines.Line2D at 0x77195a5ddb10>]"
      ]
     },
     "execution_count": 5,
     "metadata": {},
     "output_type": "execute_result"
    },
    {
     "data": {
      "image/png": "[encoded data removed]",
      "text/plain": [
       "<Figure size 1000x600 with 1 Axes>"
      ]
     },
     "metadata": {},
     "output_type": "display_data"
    }
   ],
   "source": [
    "from scipy.stats import norm\n",
    "\n",
    "plt.hist(df.Height,bins=20,rwidth=0.5,density=True)\n",
    "plt.xlabel('height')\n",
    "plt.ylabel('count')\n",
    "\n",
    "\n",
    "rng=np.arange(df.Height.min(),df.Height.max(),0.1)\n",
    "plt.plot(rng,norm.pdf(rng,df.Height.mean(),df.Height.std()))\n"
   ]
  },
  {
   "cell_type": "code",
   "execution_count": 6,
   "id": "32c96050",
   "metadata": {
    "execution": {
     "iopub.execute_input": "2023-05-05T09:33:11.943616Z",
     "iopub.status.busy": "2023-05-05T09:33:11.943257Z",
     "iopub.status.idle": "2023-05-05T09:33:11.948412Z",
     "shell.execute_reply": "2023-05-05T09:33:11.947742Z"
    },
    "papermill": {
     "duration": 0.013536,
     "end_time": "2023-05-05T09:33:11.950294",
     "exception": false,
     "start_time": "2023-05-05T09:33:11.936758",
     "status": "completed"
    },
    "tags": []
   },
   "outputs": [],
   "source": [
    "mean=df.Height.mean()\n",
    "std=df.Height.std()"
   ]
  },
  {
   "cell_type": "markdown",
   "id": "f610945a",
   "metadata": {
    "papermill": {
     "duration": 0.00511,
     "end_time": "2023-05-05T09:33:11.960901",
     "exception": false,
     "start_time": "2023-05-05T09:33:11.955791",
     "status": "completed"
    },
    "tags": []
   },
   "source": [
    "# using 3 std dev"
   ]
  },
  {
   "cell_type": "code",
   "execution_count": 7,
   "id": "551bfd77",
   "metadata": {
    "execution": {
     "iopub.execute_input": "2023-05-05T09:33:11.973892Z",
     "iopub.status.busy": "2023-05-05T09:33:11.973008Z",
     "iopub.status.idle": "2023-05-05T09:33:11.977687Z",
     "shell.execute_reply": "2023-05-05T09:33:11.976677Z"
    },
    "papermill": {
     "duration": 0.013624,
     "end_time": "2023-05-05T09:33:11.979914",
     "exception": false,
     "start_time": "2023-05-05T09:33:11.966290",
     "status": "completed"
    },
    "tags": []
   },
   "outputs": [],
   "source": [
    "upper_limit=mean+3*std\n",
    "lower_limit=mean-3*std"
   ]
  },
  {
   "cell_type": "code",
   "execution_count": 8,
   "id": "b08edc50",
   "metadata": {
    "execution": {
     "iopub.execute_input": "2023-05-05T09:33:11.992857Z",
     "iopub.status.busy": "2023-05-05T09:33:11.992465Z",
     "iopub.status.idle": "2023-05-05T09:33:12.007332Z",
     "shell.execute_reply": "2023-05-05T09:33:12.006454Z"
    },
    "papermill": {
     "duration": 0.024062,
     "end_time": "2023-05-05T09:33:12.009601",
     "exception": false,
     "start_time": "2023-05-05T09:33:11.985539",
     "status": "completed"
    },
    "tags": []
   },
   "outputs": [
    {
     "data": {
      "text/html": [
       "<div>\n",
       "<style scoped>\n",
       "    .dataframe tbody tr th:only-of-type {\n",
       "        vertical-align: middle;\n",
       "    }\n",
       "\n",
       "    .dataframe tbody tr th {\n",
       "        vertical-align: top;\n",
       "    }\n",
       "\n",
       "    .dataframe thead th {\n",
       "        text-align: right;\n",
       "    }\n",
       "</style>\n",
       "<table border=\"1\" class=\"dataframe\">\n",
       "  <thead>\n",
       "    <tr style=\"text-align: right;\">\n",
       "      <th></th>\n",
       "      <th>Gender</th>\n",
       "      <th>Height</th>\n",
       "      <th>Weight</th>\n",
       "    </tr>\n",
       "  </thead>\n",
       "  <tbody>\n",
       "    <tr>\n",
       "      <th>994</th>\n",
       "      <td>Male</td>\n",
       "      <td>78.095867</td>\n",
       "      <td>255.690835</td>\n",
       "    </tr>\n",
       "    <tr>\n",
       "      <th>1317</th>\n",
       "      <td>Male</td>\n",
       "      <td>78.462053</td>\n",
       "      <td>227.342565</td>\n",
       "    </tr>\n",
       "    <tr>\n",
       "      <th>2014</th>\n",
       "      <td>Male</td>\n",
       "      <td>78.998742</td>\n",
       "      <td>269.989699</td>\n",
       "    </tr>\n",
       "    <tr>\n",
       "      <th>3285</th>\n",
       "      <td>Male</td>\n",
       "      <td>78.528210</td>\n",
       "      <td>253.889004</td>\n",
       "    </tr>\n",
       "    <tr>\n",
       "      <th>3757</th>\n",
       "      <td>Male</td>\n",
       "      <td>78.621374</td>\n",
       "      <td>245.733783</td>\n",
       "    </tr>\n",
       "    <tr>\n",
       "      <th>6624</th>\n",
       "      <td>Female</td>\n",
       "      <td>54.616858</td>\n",
       "      <td>71.393749</td>\n",
       "    </tr>\n",
       "    <tr>\n",
       "      <th>9285</th>\n",
       "      <td>Female</td>\n",
       "      <td>54.263133</td>\n",
       "      <td>64.700127</td>\n",
       "    </tr>\n",
       "  </tbody>\n",
       "</table>\n",
       "</div>"
      ],
      "text/plain": [
       "      Gender     Height      Weight\n",
       "994     Male  78.095867  255.690835\n",
       "1317    Male  78.462053  227.342565\n",
       "2014    Male  78.998742  269.989699\n",
       "3285    Male  78.528210  253.889004\n",
       "3757    Male  78.621374  245.733783\n",
       "6624  Female  54.616858   71.393749\n",
       "9285  Female  54.263133   64.700127"
      ]
     },
     "execution_count": 8,
     "metadata": {},
     "output_type": "execute_result"
    }
   ],
   "source": [
    "df[(df.Height>upper_limit) | (df.Height<lower_limit)]"
   ]
  },
  {
   "cell_type": "code",
   "execution_count": 9,
   "id": "d84306bf",
   "metadata": {
    "execution": {
     "iopub.execute_input": "2023-05-05T09:33:12.022048Z",
     "iopub.status.busy": "2023-05-05T09:33:12.021703Z",
     "iopub.status.idle": "2023-05-05T09:33:12.027379Z",
     "shell.execute_reply": "2023-05-05T09:33:12.026708Z"
    },
    "papermill": {
     "duration": 0.014098,
     "end_time": "2023-05-05T09:33:12.029293",
     "exception": false,
     "start_time": "2023-05-05T09:33:12.015195",
     "status": "completed"
    },
    "tags": []
   },
   "outputs": [],
   "source": [
    "df2=df[(df.Height<upper_limit) & (df.Height>lower_limit)]"
   ]
  },
  {
   "cell_type": "code",
   "execution_count": 10,
   "id": "d73893ca",
   "metadata": {
    "execution": {
     "iopub.execute_input": "2023-05-05T09:33:12.042156Z",
     "iopub.status.busy": "2023-05-05T09:33:12.041555Z",
     "iopub.status.idle": "2023-05-05T09:33:12.046680Z",
     "shell.execute_reply": "2023-05-05T09:33:12.045894Z"
    },
    "papermill": {
     "duration": 0.013679,
     "end_time": "2023-05-05T09:33:12.048560",
     "exception": false,
     "start_time": "2023-05-05T09:33:12.034881",
     "status": "completed"
    },
    "tags": []
   },
   "outputs": [
    {
     "data": {
      "text/plain": [
       "(9993, 3)"
      ]
     },
     "execution_count": 10,
     "metadata": {},
     "output_type": "execute_result"
    }
   ],
   "source": [
    "df2.shape"
   ]
  },
  {
   "cell_type": "markdown",
   "id": "ae74997c",
   "metadata": {
    "papermill": {
     "duration": 0.005226,
     "end_time": "2023-05-05T09:33:12.059339",
     "exception": false,
     "start_time": "2023-05-05T09:33:12.054113",
     "status": "completed"
    },
    "tags": []
   },
   "source": [
    "# Using Z Score"
   ]
  },
  {
   "cell_type": "code",
   "execution_count": 11,
   "id": "aa784102",
   "metadata": {
    "execution": {
     "iopub.execute_input": "2023-05-05T09:33:12.072480Z",
     "iopub.status.busy": "2023-05-05T09:33:12.072029Z",
     "iopub.status.idle": "2023-05-05T09:33:12.085809Z",
     "shell.execute_reply": "2023-05-05T09:33:12.084972Z"
    },
    "papermill": {
     "duration": 0.023082,
     "end_time": "2023-05-05T09:33:12.087786",
     "exception": false,
     "start_time": "2023-05-05T09:33:12.064704",
     "status": "completed"
    },
    "tags": []
   },
   "outputs": [
    {
     "data": {
      "text/html": [
       "<div>\n",
       "<style scoped>\n",
       "    .dataframe tbody tr th:only-of-type {\n",
       "        vertical-align: middle;\n",
       "    }\n",
       "\n",
       "    .dataframe tbody tr th {\n",
       "        vertical-align: top;\n",
       "    }\n",
       "\n",
       "    .dataframe thead th {\n",
       "        text-align: right;\n",
       "    }\n",
       "</style>\n",
       "<table border=\"1\" class=\"dataframe\">\n",
       "  <thead>\n",
       "    <tr style=\"text-align: right;\">\n",
       "      <th></th>\n",
       "      <th>Gender</th>\n",
       "      <th>Height</th>\n",
       "      <th>Weight</th>\n",
       "      <th>zscore</th>\n",
       "    </tr>\n",
       "  </thead>\n",
       "  <tbody>\n",
       "    <tr>\n",
       "      <th>0</th>\n",
       "      <td>Male</td>\n",
       "      <td>73.847017</td>\n",
       "      <td>241.893563</td>\n",
       "      <td>1.943964</td>\n",
       "    </tr>\n",
       "    <tr>\n",
       "      <th>1</th>\n",
       "      <td>Male</td>\n",
       "      <td>68.781904</td>\n",
       "      <td>162.310473</td>\n",
       "      <td>0.627505</td>\n",
       "    </tr>\n",
       "    <tr>\n",
       "      <th>2</th>\n",
       "      <td>Male</td>\n",
       "      <td>74.110105</td>\n",
       "      <td>212.740856</td>\n",
       "      <td>2.012343</td>\n",
       "    </tr>\n",
       "    <tr>\n",
       "      <th>3</th>\n",
       "      <td>Male</td>\n",
       "      <td>71.730978</td>\n",
       "      <td>220.042470</td>\n",
       "      <td>1.393991</td>\n",
       "    </tr>\n",
       "    <tr>\n",
       "      <th>4</th>\n",
       "      <td>Male</td>\n",
       "      <td>69.881796</td>\n",
       "      <td>206.349801</td>\n",
       "      <td>0.913375</td>\n",
       "    </tr>\n",
       "  </tbody>\n",
       "</table>\n",
       "</div>"
      ],
      "text/plain": [
       "  Gender     Height      Weight    zscore\n",
       "0   Male  73.847017  241.893563  1.943964\n",
       "1   Male  68.781904  162.310473  0.627505\n",
       "2   Male  74.110105  212.740856  2.012343\n",
       "3   Male  71.730978  220.042470  1.393991\n",
       "4   Male  69.881796  206.349801  0.913375"
      ]
     },
     "execution_count": 11,
     "metadata": {},
     "output_type": "execute_result"
    }
   ],
   "source": [
    "df['zscore']=(df.Height-df.Height.mean())/(df.Height.std())\n",
    "df.head()"
   ]
  },
  {
   "cell_type": "code",
   "execution_count": 12,
   "id": "c505dbee",
   "metadata": {
    "execution": {
     "iopub.execute_input": "2023-05-05T09:33:12.101040Z",
     "iopub.status.busy": "2023-05-05T09:33:12.100354Z",
     "iopub.status.idle": "2023-05-05T09:33:12.113132Z",
     "shell.execute_reply": "2023-05-05T09:33:12.111876Z"
    },
    "papermill": {
     "duration": 0.021782,
     "end_time": "2023-05-05T09:33:12.115369",
     "exception": false,
     "start_time": "2023-05-05T09:33:12.093587",
     "status": "completed"
    },
    "tags": []
   },
   "outputs": [
    {
     "data": {
      "text/html": [
       "<div>\n",
       "<style scoped>\n",
       "    .dataframe tbody tr th:only-of-type {\n",
       "        vertical-align: middle;\n",
       "    }\n",
       "\n",
       "    .dataframe tbody tr th {\n",
       "        vertical-align: top;\n",
       "    }\n",
       "\n",
       "    .dataframe thead th {\n",
       "        text-align: right;\n",
       "    }\n",
       "</style>\n",
       "<table border=\"1\" class=\"dataframe\">\n",
       "  <thead>\n",
       "    <tr style=\"text-align: right;\">\n",
       "      <th></th>\n",
       "      <th>Gender</th>\n",
       "      <th>Height</th>\n",
       "      <th>Weight</th>\n",
       "      <th>zscore</th>\n",
       "    </tr>\n",
       "  </thead>\n",
       "  <tbody>\n",
       "    <tr>\n",
       "      <th>994</th>\n",
       "      <td>Male</td>\n",
       "      <td>78.095867</td>\n",
       "      <td>255.690835</td>\n",
       "      <td>3.048271</td>\n",
       "    </tr>\n",
       "    <tr>\n",
       "      <th>1317</th>\n",
       "      <td>Male</td>\n",
       "      <td>78.462053</td>\n",
       "      <td>227.342565</td>\n",
       "      <td>3.143445</td>\n",
       "    </tr>\n",
       "    <tr>\n",
       "      <th>2014</th>\n",
       "      <td>Male</td>\n",
       "      <td>78.998742</td>\n",
       "      <td>269.989699</td>\n",
       "      <td>3.282934</td>\n",
       "    </tr>\n",
       "    <tr>\n",
       "      <th>3285</th>\n",
       "      <td>Male</td>\n",
       "      <td>78.528210</td>\n",
       "      <td>253.889004</td>\n",
       "      <td>3.160640</td>\n",
       "    </tr>\n",
       "    <tr>\n",
       "      <th>3757</th>\n",
       "      <td>Male</td>\n",
       "      <td>78.621374</td>\n",
       "      <td>245.733783</td>\n",
       "      <td>3.184854</td>\n",
       "    </tr>\n",
       "  </tbody>\n",
       "</table>\n",
       "</div>"
      ],
      "text/plain": [
       "     Gender     Height      Weight    zscore\n",
       "994    Male  78.095867  255.690835  3.048271\n",
       "1317   Male  78.462053  227.342565  3.143445\n",
       "2014   Male  78.998742  269.989699  3.282934\n",
       "3285   Male  78.528210  253.889004  3.160640\n",
       "3757   Male  78.621374  245.733783  3.184854"
      ]
     },
     "execution_count": 12,
     "metadata": {},
     "output_type": "execute_result"
    }
   ],
   "source": [
    "df[df['zscore']>3]"
   ]
  },
  {
   "cell_type": "code",
   "execution_count": 13,
   "id": "51708593",
   "metadata": {
    "execution": {
     "iopub.execute_input": "2023-05-05T09:33:12.129716Z",
     "iopub.status.busy": "2023-05-05T09:33:12.129017Z",
     "iopub.status.idle": "2023-05-05T09:33:12.135330Z",
     "shell.execute_reply": "2023-05-05T09:33:12.134566Z"
    },
    "papermill": {
     "duration": 0.015722,
     "end_time": "2023-05-05T09:33:12.137338",
     "exception": false,
     "start_time": "2023-05-05T09:33:12.121616",
     "status": "completed"
    },
    "tags": []
   },
   "outputs": [],
   "source": [
    "df_no_outlier=df[(df['zscore']>-3) & (df['zscore']<3)]"
   ]
  },
  {
   "cell_type": "code",
   "execution_count": 14,
   "id": "89e725ab",
   "metadata": {
    "execution": {
     "iopub.execute_input": "2023-05-05T09:33:12.151374Z",
     "iopub.status.busy": "2023-05-05T09:33:12.151026Z",
     "iopub.status.idle": "2023-05-05T09:33:12.156948Z",
     "shell.execute_reply": "2023-05-05T09:33:12.156049Z"
    },
    "papermill": {
     "duration": 0.015107,
     "end_time": "2023-05-05T09:33:12.158796",
     "exception": false,
     "start_time": "2023-05-05T09:33:12.143689",
     "status": "completed"
    },
    "tags": []
   },
   "outputs": [
    {
     "data": {
      "text/plain": [
       "(9993, 4)"
      ]
     },
     "execution_count": 14,
     "metadata": {},
     "output_type": "execute_result"
    }
   ],
   "source": [
    "df_no_outlier.shape"
   ]
  },
  {
   "cell_type": "code",
   "execution_count": null,
   "id": "d75a0833",
   "metadata": {
    "papermill": {
     "duration": 0.006153,
     "end_time": "2023-05-05T09:33:12.171093",
     "exception": false,
     "start_time": "2023-05-05T09:33:12.164940",
     "status": "completed"
    },
    "tags": []
   },
   "outputs": [],
   "source": []
  }
 ],
 "metadata": {
  "kernelspec": {
   "display_name": "Python 3",
   "language": "python",
   "name": "python3"
  },
  "language_info": {
   "codemirror_mode": {
    "name": "ipython",
    "version": 3
   },
   "file_extension": ".py",
   "mimetype": "text/x-python",
   "name": "python",
   "nbconvert_exporter": "python",
   "pygments_lexer": "ipython3",
   "version": "3.10.10"
  },
  "papermill": {
   "default_parameters": {},
   "duration": 12.868635,
   "end_time": "2023-05-05T09:33:13.098285",
   "environment_variables": {},
   "exception": null,
   "input_path": "__notebook__.ipynb",
   "output_path": "__notebook__.ipynb",
   "parameters": {},
   "start_time": "2023-05-05T09:33:00.229650",
   "version": "2.4.0"
  }
 },
 "nbformat": 4,
 "nbformat_minor": 5
}
